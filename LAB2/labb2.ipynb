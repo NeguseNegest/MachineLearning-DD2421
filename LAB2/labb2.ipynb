{
 "cells": [
  {
   "cell_type": "code",
   "execution_count": 3,
   "metadata": {},
   "outputs": [],
   "source": [
    "import numpy , random , math\n",
    "from scipy . optimize import minimize\n",
    "import matplotlib . pyplot as plt\n",
    "import numpy as np\n"
   ]
  },
  {
   "cell_type": "markdown",
   "metadata": {},
   "source": [
    "## Data generation"
   ]
  },
  {
   "cell_type": "code",
   "execution_count": 6,
   "metadata": {},
   "outputs": [],
   "source": [
    "classA = numpy.concatenate((\n",
    "    numpy.random.randn(10, 2) * 0.2 + [1.5, 0.5],\n",
    "    numpy.random.randn(10, 2) * 0.2 + [-1.5, 0.5]\n",
    "))\n",
    "classB = numpy.random.randn(20, 2) * 0.2 + [0.0, -0.5]\n",
    "\n",
    "inputs = numpy.concatenate((classA, classB))\n",
    "targets = numpy.concatenate((\n",
    "    numpy.ones(classA.shape[0]),     # +1 for Class A\n",
    "    -numpy.ones(classB.shape[0])     # -1 for Class B\n",
    ")) \n"
   ]
  },
  {
   "cell_type": "markdown",
   "metadata": {},
   "source": [
    "## Kernel functions"
   ]
  },
  {
   "cell_type": "code",
   "execution_count": null,
   "metadata": {},
   "outputs": [],
   "source": [
    "def kernel_function(type_of_kernel_func,x,y):\n",
    "    if type_of_kernel_func=='linear':\n",
    "         return numpy.dot(x, y)\n",
    "    if type_of_kernel_func=='polynomial':\n",
    "        pass\n",
    "    if type_of_kernel_func=='rbf':\n",
    "        pass\n"
   ]
  },
  {
   "cell_type": "code",
   "execution_count": null,
   "metadata": {},
   "outputs": [],
   "source": [
    "#Global variables\n",
    "\n",
    "\n",
    "N = inputs.shape[0]\n",
    "P = numpy.zeros((N, N))\n",
    "for i in range(N):\n",
    "    for j in range(N):\n",
    "        P[i,j] = targets[i] * targets[j] * kernel_function('linear',inputs[i], inputs[j])\n"
   ]
  },
  {
   "cell_type": "markdown",
   "metadata": {},
   "source": [
    "## Objective function and zerofun $\\sum \\alpha_i t_i=0$"
   ]
  },
  {
   "cell_type": "code",
   "execution_count": 12,
   "metadata": {},
   "outputs": [],
   "source": [
    "def objective(alpha):\n",
    "    return 0.5 * numpy.dot(alpha, numpy.dot(P, alpha)) - numpy.sum(alpha)\n",
    "def zerofun(alpha):\n",
    "    return np.dot(alpha,targets)\n"
   ]
  },
  {
   "cell_type": "markdown",
   "metadata": {},
   "source": [
    "## Minimize operation"
   ]
  },
  {
   "cell_type": "code",
   "execution_count": null,
   "metadata": {},
   "outputs": [],
   "source": [
    "C = 10\n",
    "start = numpy.zeros(N)\n",
    "B = [(0, C) for i in range(N)]  #basically the requirment 0<=alpha<=C\n",
    "\n",
    "XC = {\n",
    "    'type': 'eq',\n",
    "    'fun': zerofun\n",
    "}\n",
    "\n",
    "ret = minimize(objective, start, bounds=B, constraints=XC)\n",
    "alpha = ret['x']\n",
    "print(\"Optimizer success:\", ret['success'])\n",
    "\n",
    "\n",
    "#get the nonzero entries in the alpha vector \n",
    "\n",
    "eps = 1e-5\n",
    "non_zero = []\n",
    "for i in range(N):\n",
    "    if alpha[i] > eps:\n",
    "        non_zero.append(i)\n",
    "\n",
    "# alpha[i] the non zero entry at the ith position in the non_zero_alpha list, inputs[i] the ith x-data point, targets[i] the ith class label +-1\n",
    "support_vectors = [(i, alpha[i], inputs[i], targets[i]) for i in non_zero]\n"
   ]
  },
  {
   "cell_type": "markdown",
   "metadata": {},
   "source": [
    "# Treshold B"
   ]
  },
  {
   "cell_type": "code",
   "execution_count": null,
   "metadata": {},
   "outputs": [],
   "source": [
    "def get_b(support_vectors):\n",
    "    # pick an index k in the support vectors where alpha_k < C if possible\n",
    "    # fallback: just pick any support vector with alpha_k > 0\n",
    "    for (i, a_i, x_i, t_i) in support_vectors:\n",
    "        if a_i < C:  # likely on the margin\n",
    "            # compute sum of alpha_j * t_j * K(x_j, x_i)\n",
    "            s = 0\n",
    "            for (j, a_j, x_j, t_j) in support_vectors:\n",
    "                s += a_j * t_j * kernel_function('linear',x_j, x_i)\n",
    "            b_val = s - t_i\n",
    "            return b_val\n",
    "\n",
    "    return None  #  if all alpha_i == C \n"
   ]
  },
  {
   "cell_type": "markdown",
   "metadata": {},
   "source": [
    "# Indicator function"
   ]
  },
  {
   "cell_type": "code",
   "execution_count": 13,
   "metadata": {},
   "outputs": [],
   "source": [
    "def indicator(x, support_vectors, b):\n",
    "    s = 0\n",
    "    for (i, a_i, x_i, t_i) in support_vectors:\n",
    "        s += a_i * t_i * kernel_function('linear',x_i, x)\n",
    "    return s - b\n"
   ]
  },
  {
   "cell_type": "code",
   "execution_count": 17,
   "metadata": {},
   "outputs": [
    {
     "data": {
      "image/png": "[encoded data removed]",
      "text/plain": [
       "<Figure size 640x480 with 1 Axes>"
      ]
     },
     "metadata": {},
     "output_type": "display_data"
    }
   ],
   "source": [
    "plt.plot( [ p [ 0 ] for p in classA ] ,\n",
    "[ p [ 1 ] for p in classA ] ,\n",
    "'b .' )\n",
    "plt.plot([ p [ 0 ] for p in classB ] ,\n",
    "[ p [ 1 ] for p in classB ] ,\n",
    "'r .' )\n",
    "plt.axis ( 'equal'  ) # Force same s c a l e on both axes\n",
    "#plt.savefig('svmplot-pdf ') # Save a copy in a f i l e\n",
    "plt.show ( ) # Show the p l o t on the screen"
   ]
  }
 ],
 "metadata": {
  "kernelspec": {
   "display_name": "Python 3",
   "language": "python",
   "name": "python3"
  },
  "language_info": {
   "codemirror_mode": {
    "name": "ipython",
    "version": 3
   },
   "file_extension": ".py",
   "mimetype": "text/x-python",
   "name": "python",
   "nbconvert_exporter": "python",
   "pygments_lexer": "ipython3",
   "version": "3.10.7"
  }
 },
 "nbformat": 4,
 "nbformat_minor": 2
}
